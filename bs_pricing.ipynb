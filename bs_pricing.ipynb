{
 "cells": [
  {
   "cell_type": "markdown",
   "id": "9339bf76",
   "metadata": {},
   "source": [
    "# 📘 Black-Scholes Option Pricing (avec module externe)\n",
    "Ce notebook utilise le fichier `src/black_scholes.py` pour effectuer :\n",
    "- le pricing d'options européennes via Black-Scholes,\n",
    "- une simulation Monte Carlo,\n",
    "- le calcul des Greeks,\n",
    "- des visualisations interactives."
   ]
  },
  {
   "cell_type": "code",
   "execution_count": null,
   "id": "36b36178",
   "metadata": {},
   "outputs": [],
   "source": [
    "# 📦 Imports\n",
    "import numpy as np\n",
    "import matplotlib.pyplot as plt\n",
    "from src.black_scholes import black_scholes_price, monte_carlo_price, greeks\n",
    "%matplotlib inline"
   ]
  },
  {
   "cell_type": "markdown",
   "id": "ecd0bcad",
   "metadata": {},
   "source": [
    "## ⚙️ Exemple de pricing"
   ]
  },
  {
   "cell_type": "code",
   "execution_count": null,
   "id": "9f0b3727",
   "metadata": {},
   "outputs": [],
   "source": [
    "S, K, T, r, sigma = 100, 100, 1, 0.05, 0.2\n",
    "call_price = black_scholes_price(S, K, T, r, sigma, 'call')\n",
    "put_price = black_scholes_price(S, K, T, r, sigma, 'put')\n",
    "call_mc = monte_carlo_price(S, K, T, r, sigma, option_type='call')\n",
    "print(f\"Call (BS) : {call_price:.2f}, Call (MC) : {call_mc:.2f}, Put (BS) : {put_price:.2f}\")"
   ]
  },
  {
   "cell_type": "markdown",
   "id": "59ffb268",
   "metadata": {},
   "source": [
    "## 📉 Visualisation des Greeks en fonction de S"
   ]
  },
  {
   "cell_type": "code",
   "execution_count": null,
   "id": "dbdd35c4",
   "metadata": {},
   "outputs": [],
   "source": [
    "S_vals = np.linspace(50, 150, 100)\n",
    "Delta, Gamma, Vega = [], [], []\n",
    "for S_val in S_vals:\n",
    "    d, g, v, _, _ = greeks(S_val, K, T, r, sigma)\n",
    "    Delta.append(d)\n",
    "    Gamma.append(g)\n",
    "    Vega.append(v)\n",
    "\n",
    "plt.figure(figsize=(12,4))\n",
    "plt.subplot(1,3,1)\n",
    "plt.plot(S_vals, Delta)\n",
    "plt.title('Delta')\n",
    "plt.subplot(1,3,2)\n",
    "plt.plot(S_vals, Gamma)\n",
    "plt.title('Gamma')\n",
    "plt.subplot(1,3,3)\n",
    "plt.plot(S_vals, Vega)\n",
    "plt.title('Vega')\n",
    "plt.tight_layout()\n",
    "plt.show()"
   ]
  }
 ],
 "metadata": {},
 "nbformat": 4,
 "nbformat_minor": 5
}